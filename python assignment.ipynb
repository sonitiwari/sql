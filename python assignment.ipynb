{
 "cells": [
  {
   "cell_type": "code",
   "execution_count": 1,
   "id": "4f988c7e",
   "metadata": {},
   "outputs": [
    {
     "name": "stdout",
     "output_type": "stream",
     "text": [
      "HELLO World\n"
     ]
    }
   ],
   "source": [
    "s='HELLO World'\n",
    "print(s)"
   ]
  },
  {
   "cell_type": "raw",
   "id": "6a8d8a37",
   "metadata": {},
   "source": []
  },
  {
   "cell_type": "code",
   "execution_count": 2,
   "id": "a9ffd0a3",
   "metadata": {},
   "outputs": [
    {
     "name": "stdout",
     "output_type": "stream",
     "text": [
      "   /|\n",
      "  / |\n",
      " /  |\n",
      "/___|\n"
     ]
    }
   ],
   "source": [
    "print('   /|')\n",
    "print('  / |')\n",
    "print(' /  |' )\n",
    "print('/___|')"
   ]
  },
  {
   "cell_type": "code",
   "execution_count": 3,
   "id": "53616c22",
   "metadata": {},
   "outputs": [
    {
     "name": "stdout",
     "output_type": "stream",
     "text": [
      "There was a man name jon\n",
      "His age is 35\n"
     ]
    }
   ],
   "source": [
    "character_name='jon'\n",
    "character_age='35'\n",
    "print('There was a man name ' +  character_name)\n",
    "print('His age is '+character_age)"
   ]
  },
  {
   "cell_type": "code",
   "execution_count": 4,
   "id": "9b608dec",
   "metadata": {},
   "outputs": [
    {
     "name": "stdout",
     "output_type": "stream",
     "text": [
      "Giraffe Acdemy IS cool\n"
     ]
    }
   ],
   "source": [
    "pharse='Giraffe Acdemy'\n",
    "print(pharse +' IS cool')"
   ]
  },
  {
   "cell_type": "code",
   "execution_count": 5,
   "id": "03c8234e",
   "metadata": {},
   "outputs": [
    {
     "name": "stdout",
     "output_type": "stream",
     "text": [
      "['kevin', 'karen', 'john', 'nan', 'tan', 4, 8, 15, 18, 23, 42]\n"
     ]
    }
   ],
   "source": [
    "Lucky_no=[4,8,15,18,23,42]\n",
    "friends=['kevin','karen','john','nan','tan']\n",
    "friends.extend(Lucky_no)\n",
    "print(friends)\n"
   ]
  },
  {
   "cell_type": "code",
   "execution_count": 6,
   "id": "a69a9324",
   "metadata": {},
   "outputs": [
    {
     "name": "stdout",
     "output_type": "stream",
     "text": [
      "['kevin', 'karen', 'john', 'nan', 'tan', 'sonika']\n"
     ]
    }
   ],
   "source": [
    "Lucky_no=[4,8,15,18,23,42]\n",
    "friends=['kevin','karen','john','nan','tan']\n",
    "friends.append('sonika')\n",
    "print(friends)"
   ]
  },
  {
   "cell_type": "code",
   "execution_count": 7,
   "id": "9b07f9c4",
   "metadata": {},
   "outputs": [],
   "source": [
    "def say_hi():\n",
    "    print('Hello user'+name+',you are '+str(age))\n"
   ]
  },
  {
   "cell_type": "code",
   "execution_count": 8,
   "id": "6de5469d",
   "metadata": {},
   "outputs": [
    {
     "name": "stdout",
     "output_type": "stream",
     "text": [
      "you are a male or tall or both\n"
     ]
    }
   ],
   "source": [
    "is_male=True\n",
    "is_tall=False\n",
    "\n",
    "if is_male and is_tall:\n",
    "    print('you are a tall male')\n",
    "else: \n",
    "    print('you are a male or tall or both')\n"
   ]
  },
  {
   "cell_type": "code",
   "execution_count": 9,
   "id": "66b2bac9",
   "metadata": {},
   "outputs": [],
   "source": [
    "def max_num(num1,num2,num3):\n",
    "    if num1>=num2 and num1>=num3:\n",
    "        return num1\n",
    "    elif num2>=num1 and num2>=num3:\n",
    "        return num2\n",
    "    else:\n",
    "        return num3\n",
    "        "
   ]
  },
  {
   "cell_type": "code",
   "execution_count": 10,
   "id": "47f8f19a",
   "metadata": {},
   "outputs": [
    {
     "name": "stdout",
     "output_type": "stream",
     "text": [
      "8\n"
     ]
    }
   ],
   "source": [
    "print(max_num(3,8,5))"
   ]
  },
  {
   "cell_type": "code",
   "execution_count": 11,
   "id": "0eac2b1e",
   "metadata": {},
   "outputs": [
    {
     "name": "stdout",
     "output_type": "stream",
     "text": [
      "enter first number:7\n",
      "enter operation:*\n",
      "enter second number: 6\n",
      "42.0\n"
     ]
    }
   ],
   "source": [
    "num1=float(input('enter first number:'))\n",
    "op=input('enter operation:')\n",
    "num2=float(input('enter second number: '))\n",
    " \n",
    "if op=='+':\n",
    "    print(num1+num2)\n",
    "elif op=='-':\n",
    "    print(num1-num2)\n",
    "elif op=='/':\n",
    "    print(num1/num2)\n",
    "elif op=='*':\n",
    "    print(num1*num2)\n",
    "else:\n",
    "    print('invalid operation')"
   ]
  },
  {
   "cell_type": "code",
   "execution_count": 12,
   "id": "c811bfdc",
   "metadata": {},
   "outputs": [],
   "source": [
    "monthConversion={\n",
    "    'jan':'january',\n",
    "    'feb':'Februrary',\n",
    "    'march':'March',\n",
    "    'april':'April',\n",
    "     'may':'May',\n",
    "     'june':'June'\n",
    "}"
   ]
  },
  {
   "cell_type": "code",
   "execution_count": 13,
   "id": "ebcb15c4",
   "metadata": {},
   "outputs": [
    {
     "name": "stdout",
     "output_type": "stream",
     "text": [
      "1\n",
      "2\n",
      "3\n",
      "4\n",
      "5\n",
      "6\n",
      "7\n",
      "8\n",
      "9\n",
      "10\n",
      "done with loop\n"
     ]
    }
   ],
   "source": [
    "i=1\n",
    "while i<=10:\n",
    "    print(i)\n",
    "    i+=1\n",
    "print('done with loop')"
   ]
  },
  {
   "cell_type": "code",
   "execution_count": 14,
   "id": "458b4db8",
   "metadata": {},
   "outputs": [],
   "source": [
    "\n",
    "\n",
    "def guessing_game():\n",
    "    secret = \"The Money\"\n",
    "    guesses = 0\n",
    "    failed = False\n",
    "\n",
    "    while not failed:\n",
    "        guessed = input(\"Guess word \")\n",
    "        guesses += 1\n",
    "        if guessed == secret:\n",
    "            print(\"You Win!\")\n",
    "            return\n",
    "        if guesses == 5:\n",
    "            failed = True\n",
    "            print(\"You failed\")"
   ]
  },
  {
   "cell_type": "code",
   "execution_count": null,
   "id": "7f072f0e",
   "metadata": {},
   "outputs": [],
   "source": [
    "def raise_power(base, raised):\n",
    "    result = 1\n",
    "    for i in range(raised):\n",
    "        result *= base\n",
    "\n",
    "    return result"
   ]
  },
  {
   "cell_type": "code",
   "execution_count": null,
   "id": "2eb1a21e",
   "metadata": {},
   "outputs": [],
   "source": [
    "odds = list(filter(lambda x: x%2==0, list(range(10))))\n",
    "evens = list(map(lambda x: x+1, odds))\n",
    "print(odds)\n",
    "print(evens)\n",
    "together = list(zip(odds,evens))\n",
    "print(together)"
   ]
  },
  {
   "cell_type": "code",
   "execution_count": null,
   "id": "77502de7",
   "metadata": {},
   "outputs": [],
   "source": [
    "from functools import reduce"
   ]
  },
  {
   "cell_type": "code",
   "execution_count": null,
   "id": "a41110d6",
   "metadata": {},
   "outputs": [],
   "source": [
    "\n",
    "tempList = [1,2,3,4,]\n",
    "tempList = list(map(lambda x: x*3, tempList))\n",
    "print(tempList)\n",
    "print(reduce(lambda x,y: x * y, tempList))\n",
    "tempList = list(filter(lambda x: x % 6 != 0, tempList))\n",
    "print(tempList)"
   ]
  },
  {
   "cell_type": "code",
   "execution_count": null,
   "id": "1eb32a31",
   "metadata": {},
   "outputs": [],
   "source": [
    "\n",
    "lambFunc = lambda x, a: (x*2) + a\n",
    "print(lambFunc(2,6))"
   ]
  },
  {
   "cell_type": "code",
   "execution_count": null,
   "id": "8ff299b4",
   "metadata": {},
   "outputs": [],
   "source": [
    "\n",
    "print(list(map(lambda x: x*x, [5,4,3])))\n",
    "a = [(0,2), (4,3), (9,9), (10,-1)]\n",
    "a.sort()\n",
    "print(a)\n",
    "a.sort(key=lambda x: x[1])\n",
    "print(a)"
   ]
  },
  {
   "cell_type": "code",
   "execution_count": null,
   "id": "3e210cef",
   "metadata": {},
   "outputs": [],
   "source": [
    "\n",
    "wordList = [char for char in 'new List']\n",
    "intList = [num*1.4 for num in range(1,10)]\n",
    "nums = [num *2.3 for num in range(1,50) if num % 2 == 0]\n",
    "print(wordList)\n",
    "print(intList)\n",
    "print(nums)"
   ]
  },
  {
   "cell_type": "code",
   "execution_count": null,
   "id": "e7b3234d",
   "metadata": {},
   "outputs": [],
   "source": [
    "sample_dict = {\n",
    "    'a': 1,\n",
    "    'b': 2,\n",
    "    'c': 3\n",
    "}\n",
    "\n",
    "test_dict = {key:value-3 for key,value in sample_dict.items()}\n",
    "print(test_dict)"
   ]
  },
  {
   "cell_type": "code",
   "execution_count": null,
   "id": "a8823763",
   "metadata": {},
   "outputs": [],
   "source": [
    "\n",
    "finalList = [x for x in 'abcdefghijklmnop']\n",
    "finalList = finalList*2\n",
    "finalList.append('w')\n",
    "finalList.append('z')\n",
    "finalList.sort()\n",
    "print(finalList)"
   ]
  },
  {
   "cell_type": "code",
   "execution_count": null,
   "id": "7df2ada3",
   "metadata": {},
   "outputs": [],
   "source": [
    "duplicates = list(set([x for x in finalList if finalList.count(x) > 1]))\n",
    "duplicates.sort()\n",
    "print(duplicates)"
   ]
  },
  {
   "cell_type": "code",
   "execution_count": null,
   "id": "08507fcf",
   "metadata": {},
   "outputs": [],
   "source": []
  }
 ],
 "metadata": {
  "kernelspec": {
   "display_name": "Python 3 (ipykernel)",
   "language": "python",
   "name": "python3"
  },
  "language_info": {
   "codemirror_mode": {
    "name": "ipython",
    "version": 3
   },
   "file_extension": ".py",
   "mimetype": "text/x-python",
   "name": "python",
   "nbconvert_exporter": "python",
   "pygments_lexer": "ipython3",
   "version": "3.10.9"
  }
 },
 "nbformat": 4,
 "nbformat_minor": 5
}
